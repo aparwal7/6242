{
 "metadata": {
  "language_info": {
   "codemirror_mode": {
    "name": "ipython",
    "version": 3
   },
   "file_extension": ".py",
   "mimetype": "text/x-python",
   "name": "python",
   "nbconvert_exporter": "python",
   "pygments_lexer": "ipython3",
   "version": "3.8.5"
  },
  "orig_nbformat": 2,
  "kernelspec": {
   "name": "python3",
   "display_name": "Python 3.8.5 32-bit",
   "metadata": {
    "interpreter": {
     "hash": "aacaf1db29474302fa8c6aa674f4857fdd50ce615bfb5ed486c73468c4a8512b"
    }
   }
  }
 },
 "nbformat": 4,
 "nbformat_minor": 2,
 "cells": [
  {
   "cell_type": "code",
   "execution_count": 1,
   "metadata": {},
   "outputs": [],
   "source": [
    "import pandas as pd"
   ]
  },
  {
   "cell_type": "code",
   "execution_count": 21,
   "metadata": {},
   "outputs": [
    {
     "output_type": "execute_result",
     "data": {
      "text/plain": [
       "                 ID    PERMIT#                PERMIT_TYPE  \\\n",
       "ISSUE_DATE                                                  \n",
       "2010-06-14  2015693  100276612  PERMIT - NEW CONSTRUCTION   \n",
       "2009-07-16  2053303  100293285  PERMIT - NEW CONSTRUCTION   \n",
       "2020-11-10  3125307  100876352  PERMIT - NEW CONSTRUCTION   \n",
       "2020-07-01  3110706  100864812  PERMIT - NEW CONSTRUCTION   \n",
       "2009-08-31  2068267  100300715  PERMIT - NEW CONSTRUCTION   \n",
       "2009-10-16  2085720  100309770  PERMIT - NEW CONSTRUCTION   \n",
       "2010-05-20  2144220  100330282  PERMIT - NEW CONSTRUCTION   \n",
       "2010-04-01  2148662  100332373  PERMIT - NEW CONSTRUCTION   \n",
       "2010-10-27  2202109  100360924  PERMIT - NEW CONSTRUCTION   \n",
       "2011-07-18  2217763  100368953  PERMIT - NEW CONSTRUCTION   \n",
       "\n",
       "                                            LOCATION  \n",
       "ISSUE_DATE                                            \n",
       "2010-06-14  POINT (-87.674174892458 41.794585510718)  \n",
       "2009-07-16  POINT (-87.680810482774 41.935473195894)  \n",
       "2020-11-10                                       NaN  \n",
       "2020-07-01                                       NaN  \n",
       "2009-08-31  POINT (-87.654962895673 41.930475362051)  \n",
       "2009-10-16  POINT (-87.663257587952 41.927708126734)  \n",
       "2010-05-20  POINT (-87.642356833022 41.919720567455)  \n",
       "2010-04-01  POINT (-87.658903158388 41.933859992051)  \n",
       "2010-10-27  POINT (-87.672443376774 41.937021029941)  \n",
       "2011-07-18    POINT (-87.67398785671 41.90407137076)  "
      ],
      "text/html": "<div>\n<style scoped>\n    .dataframe tbody tr th:only-of-type {\n        vertical-align: middle;\n    }\n\n    .dataframe tbody tr th {\n        vertical-align: top;\n    }\n\n    .dataframe thead th {\n        text-align: right;\n    }\n</style>\n<table border=\"1\" class=\"dataframe\">\n  <thead>\n    <tr style=\"text-align: right;\">\n      <th></th>\n      <th>ID</th>\n      <th>PERMIT#</th>\n      <th>PERMIT_TYPE</th>\n      <th>LOCATION</th>\n    </tr>\n    <tr>\n      <th>ISSUE_DATE</th>\n      <th></th>\n      <th></th>\n      <th></th>\n      <th></th>\n    </tr>\n  </thead>\n  <tbody>\n    <tr>\n      <th>2010-06-14</th>\n      <td>2015693</td>\n      <td>100276612</td>\n      <td>PERMIT - NEW CONSTRUCTION</td>\n      <td>POINT (-87.674174892458 41.794585510718)</td>\n    </tr>\n    <tr>\n      <th>2009-07-16</th>\n      <td>2053303</td>\n      <td>100293285</td>\n      <td>PERMIT - NEW CONSTRUCTION</td>\n      <td>POINT (-87.680810482774 41.935473195894)</td>\n    </tr>\n    <tr>\n      <th>2020-11-10</th>\n      <td>3125307</td>\n      <td>100876352</td>\n      <td>PERMIT - NEW CONSTRUCTION</td>\n      <td>NaN</td>\n    </tr>\n    <tr>\n      <th>2020-07-01</th>\n      <td>3110706</td>\n      <td>100864812</td>\n      <td>PERMIT - NEW CONSTRUCTION</td>\n      <td>NaN</td>\n    </tr>\n    <tr>\n      <th>2009-08-31</th>\n      <td>2068267</td>\n      <td>100300715</td>\n      <td>PERMIT - NEW CONSTRUCTION</td>\n      <td>POINT (-87.654962895673 41.930475362051)</td>\n    </tr>\n    <tr>\n      <th>2009-10-16</th>\n      <td>2085720</td>\n      <td>100309770</td>\n      <td>PERMIT - NEW CONSTRUCTION</td>\n      <td>POINT (-87.663257587952 41.927708126734)</td>\n    </tr>\n    <tr>\n      <th>2010-05-20</th>\n      <td>2144220</td>\n      <td>100330282</td>\n      <td>PERMIT - NEW CONSTRUCTION</td>\n      <td>POINT (-87.642356833022 41.919720567455)</td>\n    </tr>\n    <tr>\n      <th>2010-04-01</th>\n      <td>2148662</td>\n      <td>100332373</td>\n      <td>PERMIT - NEW CONSTRUCTION</td>\n      <td>POINT (-87.658903158388 41.933859992051)</td>\n    </tr>\n    <tr>\n      <th>2010-10-27</th>\n      <td>2202109</td>\n      <td>100360924</td>\n      <td>PERMIT - NEW CONSTRUCTION</td>\n      <td>POINT (-87.672443376774 41.937021029941)</td>\n    </tr>\n    <tr>\n      <th>2011-07-18</th>\n      <td>2217763</td>\n      <td>100368953</td>\n      <td>PERMIT - NEW CONSTRUCTION</td>\n      <td>POINT (-87.67398785671 41.90407137076)</td>\n    </tr>\n  </tbody>\n</table>\n</div>"
     },
     "metadata": {},
     "execution_count": 21
    }
   ],
   "source": [
    "#data = pd.read_csv(\"filtered.csv\", parse_dates=[\"ISSUE_DATE\"], index_col=\"ISSUE_DATE\")\n",
    "#data_filtered = data[[\"ID\", \"PERMIT#\",\"PERMIT_TYPE\",\"LOCATION\"]]\n",
    "#data_filtered.head(10)\n",
    "data_filtered.dropna(axis=1)\n",
    "data_filtered.head(10)"
   ]
  },
  {
   "cell_type": "code",
   "execution_count": null,
   "metadata": {},
   "outputs": [],
   "source": []
  },
  {
   "cell_type": "code",
   "execution_count": null,
   "metadata": {},
   "outputs": [],
   "source": []
  }
 ]
}